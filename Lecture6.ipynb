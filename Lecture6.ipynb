{
 "cells": [
  {
   "cell_type": "markdown",
   "metadata": {},
   "source": [
    "# Lecture 5, Damped Driven Pendulum and Chaos\n",
    "\n",
    "**Overview:**\n",
    "* Non-Linear Pendulum\n",
    "* Damped & Driven non-linear pendulum\n",
    "* Chaotic vs. Stochastic trajectories\n",
    "* Sensitivity to initial conditions\n",
    "* Phase space plots\n",
    "\n",
    "---"
   ]
  },
  {
   "cell_type": "code",
   "execution_count": 11,
   "metadata": {},
   "outputs": [],
   "source": [
    "# Keep import statement in their own cell at the top\n",
    "import matplotlib.pyplot as plt # for plotting          \n",
    "import numpy as np\n",
    "\n",
    "# import our Pendulum class from Particle1D\n",
    "from Particle1D import Pendulum"
   ]
  },
  {
   "cell_type": "markdown",
   "metadata": {},
   "source": [
    "Below we will explore the behavior of a driven non-linear pendulum using our ODE class. The Pendulum class is a sub-class of Particle. There are some modifications to fix the range of the pendulum displacement $\\theta: [-\\pi, \\pi]$. \n",
    "\n",
    "When creating a new instance of Pendulum, we can provide many arguments that describe a driven damped oscillator:\n",
    "\n",
    "        P = Pendulum(l = 9.8, nu = 0, Fd  = 0.0, omega_d = 0.0, m = 1.0, x0 = 0.0 ,v0 = 0.0, tf = 50.0, dt = 0.001)\n",
    "        \n",
    "        l: length of pendulum\n",
    "        nu: damping (viscous drag) term\n",
    "        Fd: amplitude of driving force\n",
    "        omega_d: frequency of driving force\n",
    "        m: mass of pendulum\n",
    "        x0: initial displacement\n",
    "        v0: initial velocity\n",
    "        tf: final time for our calculation\n",
    "        dt: time step size"
   ]
  },
  {
   "cell_type": "markdown",
   "metadata": {},
   "source": [
    "## The non-Linear pendulum\n",
    "\n",
    "* Make sure you understand how the code below is working.\n",
    "* Try modifying the code to add a damping term. Explore trajectories for different values of the damping coefficient.\n",
    "* What do you notice about the shape of the trajectory as the driving force is increased?"
   ]
  },
  {
   "cell_type": "code",
   "execution_count": 9,
   "metadata": {
    "scrolled": true
   },
   "outputs": [
    {
     "name": "stdout",
     "output_type": "stream",
     "text": [
      "0.0\n"
     ]
    },
    {
     "ename": "TypeError",
     "evalue": "__init__() got an unexpected keyword argument 'nu'",
     "output_type": "error",
     "traceback": [
      "\u001b[0;31m---------------------------------------------------------------------------\u001b[0m",
      "\u001b[0;31mTypeError\u001b[0m                                 Traceback (most recent call last)",
      "\u001b[0;32m<ipython-input-9-8e3052e4cc27>\u001b[0m in \u001b[0;36m<module>\u001b[0;34m\u001b[0m\n\u001b[1;32m      9\u001b[0m \u001b[0;34m\u001b[0m\u001b[0m\n\u001b[1;32m     10\u001b[0m \u001b[0;32mfor\u001b[0m \u001b[0mx0\u001b[0m \u001b[0;32min\u001b[0m \u001b[0mx0s\u001b[0m\u001b[0;34m:\u001b[0m\u001b[0;34m\u001b[0m\u001b[0;34m\u001b[0m\u001b[0m\n\u001b[0;32m---> 11\u001b[0;31m     \u001b[0mp\u001b[0m \u001b[0;34m=\u001b[0m \u001b[0mPendulum\u001b[0m\u001b[0;34m(\u001b[0m\u001b[0mnu\u001b[0m \u001b[0;34m=\u001b[0m \u001b[0;36m0\u001b[0m\u001b[0;34m,\u001b[0m \u001b[0mx0\u001b[0m \u001b[0;34m=\u001b[0m \u001b[0mnp\u001b[0m\u001b[0;34m.\u001b[0m\u001b[0mpi\u001b[0m\u001b[0;34m*\u001b[0m\u001b[0mx0\u001b[0m\u001b[0;34m,\u001b[0m \u001b[0mtf\u001b[0m\u001b[0;34m=\u001b[0m \u001b[0;36m40\u001b[0m\u001b[0;34m,\u001b[0m \u001b[0mdt\u001b[0m \u001b[0;34m=\u001b[0m \u001b[0;36m1e-3\u001b[0m\u001b[0;34m)\u001b[0m\u001b[0;34m\u001b[0m\u001b[0;34m\u001b[0m\u001b[0m\n\u001b[0m\u001b[1;32m     12\u001b[0m     \u001b[0mp\u001b[0m\u001b[0;34m.\u001b[0m\u001b[0mscipy_trajectory\u001b[0m\u001b[0;34m(\u001b[0m\u001b[0;34m)\u001b[0m \u001b[0;31m#Use scipy ODEint\u001b[0m\u001b[0;34m\u001b[0m\u001b[0;34m\u001b[0m\u001b[0m\n\u001b[1;32m     13\u001b[0m     \u001b[0max\u001b[0m\u001b[0;34m.\u001b[0m\u001b[0mplot\u001b[0m\u001b[0;34m(\u001b[0m\u001b[0mp\u001b[0m\u001b[0;34m.\u001b[0m\u001b[0mtarray\u001b[0m\u001b[0;34m,\u001b[0m \u001b[0mp\u001b[0m\u001b[0;34m.\u001b[0m\u001b[0mxv\u001b[0m\u001b[0;34m[\u001b[0m\u001b[0;34m:\u001b[0m\u001b[0;34m,\u001b[0m\u001b[0;36m0\u001b[0m\u001b[0;34m]\u001b[0m\u001b[0;34m/\u001b[0m\u001b[0mx0\u001b[0m\u001b[0;34m/\u001b[0m\u001b[0mnp\u001b[0m\u001b[0;34m.\u001b[0m\u001b[0mpi\u001b[0m\u001b[0;34m,\u001b[0m \u001b[0mlw\u001b[0m \u001b[0;34m=\u001b[0m \u001b[0;36m2\u001b[0m\u001b[0;34m,\u001b[0m \u001b[0mlabel\u001b[0m \u001b[0;34m=\u001b[0m \u001b[0;34m\"$\\\\theta_0$ = {}\"\u001b[0m\u001b[0;34m.\u001b[0m\u001b[0mformat\u001b[0m\u001b[0;34m(\u001b[0m\u001b[0mx0\u001b[0m\u001b[0;34m)\u001b[0m\u001b[0;34m)\u001b[0m\u001b[0;34m\u001b[0m\u001b[0;34m\u001b[0m\u001b[0m\n",
      "\u001b[0;31mTypeError\u001b[0m: __init__() got an unexpected keyword argument 'nu'"
     ]
    },
    {
     "data": {
      "image/png": "[encoded data removed]",
      "text/plain": [
       "<Figure size 504x360 with 1 Axes>"
      ]
     },
     "metadata": {
      "needs_background": "light"
     },
     "output_type": "display_data"
    }
   ],
   "source": [
    "fig = plt.figure(figsize = [7,5])\n",
    "ax = fig.add_subplot(111)\n",
    "    \n",
    "# Loop over different initial displacements and plot angle vs time for driven pendulum\n",
    "\n",
    "# maximum initial displacement is 1, corresponds to pi radians.\n",
    "x0s= [0.01, 0.2, 0.4, 0.8, 0.9] \n",
    "\n",
    "for x0 in x0s:\n",
    "    p = Pendulum(nu = 0, x0 = np.pi*x0, tf= 40, dt = 1e-3)\n",
    "    p.scipy_trajectory() #Use scipy ODEint \n",
    "    ax.plot(p.tarray, p.xv[:,0]/x0/np.pi, lw = 2, label = \"$\\\\theta_0$ = {}\".format(x0))\n",
    "\n",
    "ax.set_xlabel('t (s)',fontsize = 18)\n",
    "ax.set_ylabel('$\\\\theta / \\\\theta_0$', fontsize = 18)\n",
    "ax.legend(loc = 4)\n",
    "ax.set_title('Non-Linear Pendulum')\n",
    "plt.show()\n"
   ]
  },
  {
   "cell_type": "markdown",
   "metadata": {},
   "source": [
    "## Damped & Driven non-linear pendulum\n",
    "\n",
    "Below we explore the behavior of the damped driven pendulum for different driving force amplitudes. \n",
    "* Try changing the frequency of the driving force or the damping coefficient. What do you notice? "
   ]
  },
  {
   "cell_type": "code",
   "execution_count": 4,
   "metadata": {},
   "outputs": [
    {
     "ename": "TypeError",
     "evalue": "__init__() got an unexpected keyword argument 'nu'",
     "output_type": "error",
     "traceback": [
      "\u001b[0;31m---------------------------------------------------------------------------\u001b[0m",
      "\u001b[0;31mTypeError\u001b[0m                                 Traceback (most recent call last)",
      "\u001b[0;32m<ipython-input-4-fa11e4ead87f>\u001b[0m in \u001b[0;36m<module>\u001b[0;34m\u001b[0m\n\u001b[1;32m      8\u001b[0m \u001b[0;34m\u001b[0m\u001b[0m\n\u001b[1;32m      9\u001b[0m \u001b[0;32mfor\u001b[0m \u001b[0mii\u001b[0m \u001b[0;32min\u001b[0m \u001b[0mrange\u001b[0m\u001b[0;34m(\u001b[0m\u001b[0mlen\u001b[0m\u001b[0;34m(\u001b[0m\u001b[0mFds\u001b[0m\u001b[0;34m)\u001b[0m\u001b[0;34m)\u001b[0m\u001b[0;34m:\u001b[0m\u001b[0;34m\u001b[0m\u001b[0;34m\u001b[0m\u001b[0m\n\u001b[0;32m---> 10\u001b[0;31m     \u001b[0mp\u001b[0m \u001b[0;34m=\u001b[0m \u001b[0mPendulum\u001b[0m\u001b[0;34m(\u001b[0m\u001b[0mnu\u001b[0m \u001b[0;34m=\u001b[0m \u001b[0;36m1\u001b[0m\u001b[0;34m/\u001b[0m\u001b[0;36m2\u001b[0m\u001b[0;34m,\u001b[0m \u001b[0mFd\u001b[0m \u001b[0;34m=\u001b[0m \u001b[0mFds\u001b[0m\u001b[0;34m[\u001b[0m\u001b[0mii\u001b[0m\u001b[0;34m]\u001b[0m\u001b[0;34m,\u001b[0m \u001b[0momega_d\u001b[0m \u001b[0;34m=\u001b[0m \u001b[0;36m0.6\u001b[0m \u001b[0;34m,\u001b[0m \u001b[0mx0\u001b[0m \u001b[0;34m=\u001b[0m \u001b[0;36m0.200\u001b[0m\u001b[0;34m,\u001b[0m \u001b[0mtf\u001b[0m \u001b[0;34m=\u001b[0m \u001b[0;36m200\u001b[0m\u001b[0;34m)\u001b[0m\u001b[0;34m\u001b[0m\u001b[0;34m\u001b[0m\u001b[0m\n\u001b[0m\u001b[1;32m     11\u001b[0m     \u001b[0mp\u001b[0m\u001b[0;34m.\u001b[0m\u001b[0mscipy_trajectory\u001b[0m\u001b[0;34m(\u001b[0m\u001b[0;34m)\u001b[0m\u001b[0;34m\u001b[0m\u001b[0;34m\u001b[0m\u001b[0m\n\u001b[1;32m     12\u001b[0m \u001b[0;34m\u001b[0m\u001b[0m\n",
      "\u001b[0;31mTypeError\u001b[0m: __init__() got an unexpected keyword argument 'nu'"
     ]
    },
    {
     "data": {
      "image/png": "[encoded data removed]",
      "text/plain": [
       "<Figure size 720x576 with 3 Axes>"
      ]
     },
     "metadata": {
      "needs_background": "light"
     },
     "output_type": "display_data"
    }
   ],
   "source": [
    "# demonstate regime of chaotic behavior\n",
    "fig = plt.figure(figsize = [10,8])\n",
    "axs = fig.subplots(3,1)\n",
    "    \n",
    "\n",
    "# Loop over driving force amplitudes\n",
    "Fds = [1.1, 1.2, 1.8] \n",
    "\n",
    "for ii in range(len(Fds)):\n",
    "    p = Pendulum(nu = 1/2, Fd = Fds[ii], omega_d = 0.6 , x0 = 0.200, tf = 200)\n",
    "    p.scipy_trajectory()\n",
    "\n",
    "    axs[ii].plot(p.tarray, p.xv[:,0],lw = 2, label = \"$F_d$ = {}\".format(Fds[ii]))\n",
    "    axs[ii].set_ylabel('$\\\\theta$ (rad)', fontsize = 14)\n",
    "    axs[ii].legend(loc = 1, fontsize = 14)\n",
    "        \n",
    "\n",
    "axs[-1].set_xlabel('t (s)', fontsize = 14) \n",
    "fig.subplots_adjust(top = 0.98, bottom =0.08, left = 0.14, right =0.98)\n",
    "\n"
   ]
  },
  {
   "cell_type": "markdown",
   "metadata": {},
   "source": [
    "## Non deterministic (stochastic) vs. chaotic behavior\n",
    "\n",
    "Below we explore the difference between chaotic and non-deterministic behavior by comparing our damped driven pendulum in the chaotic regime with randomly generated displacements. The random displacements might be a simulation of an extremely light pendulum sitting at equilibrium in a thermal bath.\n",
    "\n",
    "* Try running the code below many times and each time examine the output. What do you notice about the stochastic trajectory vs. the chaotic trajectory?"
   ]
  },
  {
   "cell_type": "code",
   "execution_count": 5,
   "metadata": {},
   "outputs": [
    {
     "ename": "TypeError",
     "evalue": "__init__() got an unexpected keyword argument 'nu'",
     "output_type": "error",
     "traceback": [
      "\u001b[0;31m---------------------------------------------------------------------------\u001b[0m",
      "\u001b[0;31mTypeError\u001b[0m                                 Traceback (most recent call last)",
      "\u001b[0;32m<ipython-input-5-478f82d3d520>\u001b[0m in \u001b[0;36m<module>\u001b[0;34m\u001b[0m\n\u001b[1;32m     16\u001b[0m \u001b[0;34m\u001b[0m\u001b[0m\n\u001b[1;32m     17\u001b[0m \u001b[0;31m# Create two different pendulum objects with the same parameters\u001b[0m\u001b[0;34m\u001b[0m\u001b[0;34m\u001b[0m\u001b[0;34m\u001b[0m\u001b[0m\n\u001b[0;32m---> 18\u001b[0;31m \u001b[0mp1\u001b[0m \u001b[0;34m=\u001b[0m \u001b[0mPendulum\u001b[0m\u001b[0;34m(\u001b[0m\u001b[0mnu\u001b[0m \u001b[0;34m=\u001b[0m \u001b[0;36m1\u001b[0m\u001b[0;34m/\u001b[0m\u001b[0;36m2\u001b[0m\u001b[0;34m,\u001b[0m \u001b[0mFd\u001b[0m \u001b[0;34m=\u001b[0m \u001b[0;36m1.1\u001b[0m\u001b[0;34m,\u001b[0m \u001b[0momega_d\u001b[0m \u001b[0;34m=\u001b[0m \u001b[0;36m0.6\u001b[0m \u001b[0;34m,\u001b[0m \u001b[0mx0\u001b[0m \u001b[0;34m=\u001b[0m \u001b[0;36m0.200\u001b[0m\u001b[0;34m,\u001b[0m \u001b[0mtf\u001b[0m \u001b[0;34m=\u001b[0m \u001b[0;36m200\u001b[0m\u001b[0;34m,\u001b[0m \u001b[0mdt\u001b[0m \u001b[0;34m=\u001b[0m \u001b[0;36m0.01\u001b[0m\u001b[0;34m)\u001b[0m\u001b[0;34m\u001b[0m\u001b[0;34m\u001b[0m\u001b[0m\n\u001b[0m\u001b[1;32m     19\u001b[0m \u001b[0mp2\u001b[0m \u001b[0;34m=\u001b[0m \u001b[0mPendulum\u001b[0m\u001b[0;34m(\u001b[0m\u001b[0mnu\u001b[0m \u001b[0;34m=\u001b[0m \u001b[0;36m1\u001b[0m\u001b[0;34m/\u001b[0m\u001b[0;36m2\u001b[0m\u001b[0;34m,\u001b[0m \u001b[0mFd\u001b[0m \u001b[0;34m=\u001b[0m \u001b[0;36m1.1\u001b[0m\u001b[0;34m,\u001b[0m \u001b[0momega_d\u001b[0m \u001b[0;34m=\u001b[0m \u001b[0;36m0.6\u001b[0m \u001b[0;34m,\u001b[0m \u001b[0mx0\u001b[0m \u001b[0;34m=\u001b[0m \u001b[0;36m0.200\u001b[0m\u001b[0;34m,\u001b[0m \u001b[0mtf\u001b[0m \u001b[0;34m=\u001b[0m \u001b[0;36m200\u001b[0m\u001b[0;34m,\u001b[0m \u001b[0mdt\u001b[0m \u001b[0;34m=\u001b[0m \u001b[0;36m0.01\u001b[0m\u001b[0;34m)\u001b[0m\u001b[0;34m\u001b[0m\u001b[0;34m\u001b[0m\u001b[0m\n\u001b[1;32m     20\u001b[0m \u001b[0mp1\u001b[0m\u001b[0;34m.\u001b[0m\u001b[0mscipy_trajectory\u001b[0m\u001b[0;34m(\u001b[0m\u001b[0;34m)\u001b[0m\u001b[0;34m\u001b[0m\u001b[0;34m\u001b[0m\u001b[0m\n",
      "\u001b[0;31mTypeError\u001b[0m: __init__() got an unexpected keyword argument 'nu'"
     ]
    },
    {
     "data": {
      "image/png": "[encoded data removed]",
      "text/plain": [
       "<Figure size 864x432 with 2 Axes>"
      ]
     },
     "metadata": {
      "needs_background": "light"
     },
     "output_type": "display_data"
    }
   ],
   "source": [
    "def white_noise(tf, dt):\n",
    "    # function to simulate a stochastic or random process\n",
    "    mean = 0\n",
    "    std = np.pi/3.\n",
    "    npoints = int(tf/dt)\n",
    "    tarray = np.linspace(0.0, tf,npoints, endpoint = True) # include final timepoint\n",
    "    \n",
    "    # extract points at random from a normal distribution\n",
    "    w = np.random.normal(mean, std, size = npoints)\n",
    "\n",
    "    return tarray, w\n",
    "\n",
    "\n",
    "fig = plt.figure(figsize = [12,6])\n",
    "axs = fig.subplots(1,2)\n",
    "\n",
    "# Create two different pendulum objects with the same parameters\n",
    "p1 = Pendulum(nu = 1/2, Fd = 1.1, omega_d = 0.6 , x0 = 0.200, tf = 200, dt = 0.01)\n",
    "p2 = Pendulum(nu = 1/2, Fd = 1.1, omega_d = 0.6 , x0 = 0.200, tf = 200, dt = 0.01)\n",
    "p1.scipy_trajectory()\n",
    "p2.scipy_trajectory()\n",
    "\n",
    "# Create two different random \"pendulums\" with the same parameters\n",
    "w1 = white_noise(tf = 200, dt =2)\n",
    "w2 = white_noise(tf = 200, dt =2)\n",
    "\n",
    "# Plot the trajectories and differences on the same graph\n",
    "\n",
    "axs[0].plot(p1.tarray, p1.xv[:,0],lw = 6,label = 'run 1')\n",
    "axs[0].plot(p2.tarray, p2.xv[:,0],lw = 2, label = 'run 2')\n",
    "axs[0].plot(p2.tarray, p1.xv[:,0] - p2.xv[:,0],lw = 3, color = 'k',ls ='--', label = 'difference')\n",
    "\n",
    "axs[1].plot(w2[0], w2[1],lw = 3,label = 'run 1')\n",
    "axs[1].plot(w1[0], w1[1],lw = 3, label = 'run 2')\n",
    "axs[1].plot(w1[0], w1[1] - w2[1],lw = 3, color = 'k',ls = '--', label = 'difference')\n",
    "\n",
    "for a in axs:\n",
    "    a.set_ylim([-4,4])\n",
    "    a.set_xlim([0,200])\n",
    "    a.legend(loc = 1)\n",
    "    a.set_xlabel('t (s)')\n",
    "    a.set_ylabel('$\\\\theta$ (rad)')   \n",
    "\n",
    "axs[0].set_title('Chaotic')\n",
    "axs[1].set_title('Stochastic')\n",
    "\n",
    "fig.subplots_adjust(top = 0.9, bottom =0.14, left = 0.08, right =0.98)\n"
   ]
  },
  {
   "cell_type": "markdown",
   "metadata": {},
   "source": [
    "## Dependence on Initial conditions\n",
    "\n",
    "* Find a driving force amplitude where the trajectories for infinitesimally different initial $\\theta$ are exponentially diverging.\n",
    "\n",
    "* Make the difference in initial conditions as small as you please. Can you make it small enough so that the two trajectories are the same?"
   ]
  },
  {
   "cell_type": "code",
   "execution_count": 6,
   "metadata": {},
   "outputs": [
    {
     "ename": "TypeError",
     "evalue": "__init__() got an unexpected keyword argument 'nu'",
     "output_type": "error",
     "traceback": [
      "\u001b[0;31m---------------------------------------------------------------------------\u001b[0m",
      "\u001b[0;31mTypeError\u001b[0m                                 Traceback (most recent call last)",
      "\u001b[0;32m<ipython-input-6-6fc792829e3c>\u001b[0m in \u001b[0;36m<module>\u001b[0;34m\u001b[0m\n\u001b[1;32m     13\u001b[0m \u001b[0;34m\u001b[0m\u001b[0m\n\u001b[1;32m     14\u001b[0m \u001b[0;31m# Initialize objects and calculate trajectories\u001b[0m\u001b[0;34m\u001b[0m\u001b[0;34m\u001b[0m\u001b[0;34m\u001b[0m\u001b[0m\n\u001b[0;32m---> 15\u001b[0;31m \u001b[0mp1\u001b[0m \u001b[0;34m=\u001b[0m \u001b[0mPendulum\u001b[0m\u001b[0;34m(\u001b[0m\u001b[0mnu\u001b[0m \u001b[0;34m=\u001b[0m \u001b[0;36m1\u001b[0m\u001b[0;34m/\u001b[0m\u001b[0;36m2\u001b[0m\u001b[0;34m,\u001b[0m \u001b[0mFd\u001b[0m \u001b[0;34m=\u001b[0m \u001b[0mFd\u001b[0m\u001b[0;34m,\u001b[0m \u001b[0momega_d\u001b[0m \u001b[0;34m=\u001b[0m \u001b[0;36m0.6\u001b[0m \u001b[0;34m,\u001b[0m \u001b[0mx0\u001b[0m \u001b[0;34m=\u001b[0m \u001b[0mtheta0\u001b[0m\u001b[0;34m,\u001b[0m \u001b[0mtf\u001b[0m \u001b[0;34m=\u001b[0m \u001b[0mtf\u001b[0m\u001b[0;34m,\u001b[0m \u001b[0mdt\u001b[0m \u001b[0;34m=\u001b[0m \u001b[0mdt\u001b[0m\u001b[0;34m)\u001b[0m\u001b[0;34m\u001b[0m\u001b[0;34m\u001b[0m\u001b[0m\n\u001b[0m\u001b[1;32m     16\u001b[0m \u001b[0mp2\u001b[0m \u001b[0;34m=\u001b[0m \u001b[0mPendulum\u001b[0m\u001b[0;34m(\u001b[0m\u001b[0mnu\u001b[0m \u001b[0;34m=\u001b[0m \u001b[0;36m1\u001b[0m\u001b[0;34m/\u001b[0m\u001b[0;36m2\u001b[0m\u001b[0;34m,\u001b[0m \u001b[0mFd\u001b[0m \u001b[0;34m=\u001b[0m \u001b[0mFd\u001b[0m\u001b[0;34m,\u001b[0m \u001b[0momega_d\u001b[0m \u001b[0;34m=\u001b[0m \u001b[0;36m0.6\u001b[0m \u001b[0;34m,\u001b[0m \u001b[0mx0\u001b[0m \u001b[0;34m=\u001b[0m \u001b[0mtheta0\u001b[0m\u001b[0;34m+\u001b[0m\u001b[0mdelta_theta0\u001b[0m\u001b[0;34m,\u001b[0m \u001b[0mtf\u001b[0m \u001b[0;34m=\u001b[0m \u001b[0mtf\u001b[0m\u001b[0;34m,\u001b[0m \u001b[0mdt\u001b[0m \u001b[0;34m=\u001b[0m \u001b[0mdt\u001b[0m\u001b[0;34m)\u001b[0m\u001b[0;34m\u001b[0m\u001b[0;34m\u001b[0m\u001b[0m\n\u001b[1;32m     17\u001b[0m \u001b[0mp1\u001b[0m\u001b[0;34m.\u001b[0m\u001b[0mscipy_trajectory\u001b[0m\u001b[0;34m(\u001b[0m\u001b[0;34m)\u001b[0m\u001b[0;34m\u001b[0m\u001b[0;34m\u001b[0m\u001b[0m\n",
      "\u001b[0;31mTypeError\u001b[0m: __init__() got an unexpected keyword argument 'nu'"
     ]
    }
   ],
   "source": [
    "# Driving force amplitude\n",
    "Fd = 1.5\n",
    "\n",
    "# Initial theta\n",
    "theta0 = 0.2\n",
    "\n",
    "# Difference in initial position\n",
    "delta_theta0 = 0.001\n",
    "\n",
    "\n",
    "tf = 200\n",
    "dt = 0.01\n",
    "\n",
    "# Initialize objects and calculate trajectories\n",
    "p1 = Pendulum(nu = 1/2, Fd = Fd, omega_d = 0.6 , x0 = theta0, tf = tf, dt = dt)\n",
    "p2 = Pendulum(nu = 1/2, Fd = Fd, omega_d = 0.6 , x0 = theta0+delta_theta0, tf = tf, dt = dt)\n",
    "p1.scipy_trajectory()\n",
    "p2.scipy_trajectory()\n",
    "\n",
    "# difference between two directorys\n",
    "delta_theta = np.abs(p1.xv_unwrap[:,0] - p2.xv_unwrap[:,0])\n",
    "\n",
    "# Make Plot    \n",
    "fig = plt.figure(figsize = [8,6])\n",
    "ax = fig.subplots(1,1)\n",
    "\n",
    "# plot on a log scale\n",
    "ax.semilogy(p1.tarray, delta_theta, label = \"$F_d =$ {}\".format(Fd))\n",
    "\n",
    "ax.set_ylabel('$\\delta \\\\theta$ (rad)', fontsize = 14)\n",
    "ax.set_xlabel('t (s)', fontsize = 14)\n",
    "ax.legend(loc = 4, fontsize = 14)\n",
    "    \n",
    "fig.subplots_adjust(top = 0.96, bottom =0.08, left = 0.24, right =0.98)\n",
    "plt.show()\n"
   ]
  },
  {
   "cell_type": "markdown",
   "metadata": {},
   "source": [
    "## Phase space plots\n",
    "\n",
    "* Explore the phase space plots for different values of driving force amplitude. Can you tell when there is a chaotic solution?\n",
    "* Can you generate a Poincare section? (sample only those points in phase space that occur at integer multiples of driving force frequency). **Note, when creating Poincare sections it is important to disregard the transient**, you should experiment with setting different values for the transient timescale and see how the Poincare section is altered. "
   ]
  },
  {
   "cell_type": "code",
   "execution_count": null,
   "metadata": {},
   "outputs": [],
   "source": [
    "Fd = 1.1\n",
    "theta0 = 0.2\n",
    "tf = 1000\n",
    "dt = 0.01\n",
    "\n",
    "# Initialize objects and calculate trajectories\n",
    "p1 = Pendulum(nu = 1/2, Fd = Fd, omega_d = 0.6 , x0 = theta0, tf = tf, dt = dt)\n",
    "p1.scipy_trajectory()\n",
    "p1.plot(pt = 'phase')"
   ]
  },
  {
   "cell_type": "code",
   "execution_count": null,
   "metadata": {},
   "outputs": [],
   "source": [
    "# Generate Poincare maps\n",
    "fig = plt.figure(figsize = [6,9])\n",
    "ax = fig.subplots(3,1)\n",
    "Fds = [1.0, 1.2, 1.44]\n",
    "tf = 10000\n",
    "\n",
    "# modify Particle 1 to include a new method that returns a Poincare section. This method should\n",
    "# take an argument that is  the total time in the transient. \n",
    "# i.e. you code will look like \n",
    "#    p = Pendulum(nu = 1/2, Fd = 1.2, omega_d = 2/3 , x0 = 0.2, tf = tf, dt = 0.01)\n",
    "#    p.scipy_trajectory()\n",
    "#    p.Poincare(transient = 100)"
   ]
  },
  {
   "cell_type": "code",
   "execution_count": 1,
   "metadata": {},
   "outputs": [
    {
     "ename": "NameError",
     "evalue": "name 'Pendulum' is not defined",
     "output_type": "error",
     "traceback": [
      "\u001b[0;31m---------------------------------------------------------------------------\u001b[0m",
      "\u001b[0;31mNameError\u001b[0m                                 Traceback (most recent call last)",
      "\u001b[0;32m<ipython-input-1-cbe6d76da59b>\u001b[0m in \u001b[0;36m<module>\u001b[0;34m\u001b[0m\n\u001b[0;32m----> 1\u001b[0;31m \u001b[0mp1\u001b[0m \u001b[0;34m=\u001b[0m \u001b[0mPendulum\u001b[0m\u001b[0;34m(\u001b[0m\u001b[0;34m)\u001b[0m\u001b[0;34m\u001b[0m\u001b[0;34m\u001b[0m\u001b[0m\n\u001b[0m\u001b[1;32m      2\u001b[0m \u001b[0mp1\u001b[0m\u001b[0;34m.\u001b[0m\u001b[0mx\u001b[0m\u001b[0;34m\u001b[0m\u001b[0;34m\u001b[0m\u001b[0m\n",
      "\u001b[0;31mNameError\u001b[0m: name 'Pendulum' is not defined"
     ]
    }
   ],
   "source": [
    "p1 = Pendulum()\n",
    "p1.x"
   ]
  },
  {
   "cell_type": "code",
   "execution_count": null,
   "metadata": {},
   "outputs": [],
   "source": []
  }
 ],
 "metadata": {
  "kernelspec": {
   "display_name": "Python 3",
   "language": "python",
   "name": "phys1600"
  },
  "language_info": {
   "codemirror_mode": {
    "name": "ipython",
    "version": 3
   },
   "file_extension": ".py",
   "mimetype": "text/x-python",
   "name": "python",
   "nbconvert_exporter": "python",
   "pygments_lexer": "ipython3",
   "version": "3.8.6"
  }
 },
 "nbformat": 4,
 "nbformat_minor": 4
}
